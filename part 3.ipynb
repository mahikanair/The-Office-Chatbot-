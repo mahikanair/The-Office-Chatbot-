{
 "cells": [
  {
   "cell_type": "markdown",
   "metadata": {},
   "source": [
    "# Web Scraping"
   ]
  },
  {
   "cell_type": "code",
   "execution_count": 10,
   "metadata": {},
   "outputs": [
    {
     "name": "stdout",
     "output_type": "stream",
     "text": [
      "https://en.wikipedia.org/wiki/Tallahassee_(The_Office)\n",
      "https://en.wikipedia.org/wiki/Search_Committee\n",
      "https://en.wikipedia.org/wiki/The_Convict\n",
      "https://en.wikipedia.org/wiki/Boys_and_Girls_(The_Office)\n",
      "https://en.wikipedia.org/wiki/Classy_Christmas\n",
      "https://en.wikipedia.org/wiki/The_Dundies\n",
      "https://en.wikipedia.org/wiki/The_Meeting_(The_Office)\n",
      "https://en.wikipedia.org/wiki/Grief_Counseling_(The_Office)\n",
      "https://en.wikipedia.org/wiki/The_Banker_(The_Office)\n",
      "https://en.wikipedia.org/wiki/Christmas_Party_(The_Office)\n",
      "https://en.wikipedia.org/wiki/The_Negotiation_(The_Office)\n",
      "https://en.wikipedia.org/wiki/China_(The_Office)\n",
      "https://en.wikipedia.org/wiki/The_Incentive\n",
      "https://en.wikipedia.org/wiki/Office_Olympics\n",
      "https://en.wikipedia.org/wiki/Shareholder_Meeting\n",
      "https://en.wikipedia.org/wiki/Branch_Wars\n",
      "https://en.wikipedia.org/wiki/Women%27s_Appreciation\n",
      "https://en.wikipedia.org/wiki/Initiation_(The_Office)\n",
      "https://en.wikipedia.org/wiki/Phyllis%27_Wedding\n",
      "https://en.wikipedia.org/wiki/The_Injury\n",
      "https://en.wikipedia.org/wiki/Michael_Scott_Paper_Company\n",
      "https://en.wikipedia.org/wiki/The_Delivery_(The_Office)\n",
      "https://en.wikipedia.org/wiki/Garage_Sale_(The_Office)\n",
      "https://en.wikipedia.org/wiki/Moving_On_(The_Office)\n",
      "https://en.wikipedia.org/wiki/WUPHF.com\n",
      "https://en.wikipedia.org/wiki/Sex_Ed_(The_Office)\n",
      "https://en.wikipedia.org/wiki/Vandalism_(The_Office)\n",
      "https://en.wikipedia.org/wiki/Golden_Ticket_(The_Office)\n",
      "https://en.wikipedia.org/wiki/Happy_Hour_(The_Office)\n",
      "https://en.wikipedia.org/wiki/Valentine%27s_Day_(The_Office)\n",
      "https://en.wikipedia.org/wiki/Finale_(The_Office)\n",
      "https://en.wikipedia.org/wiki/The_Coup_(The_Office)\n",
      "https://en.wikipedia.org/wiki/The_Seminar\n",
      "https://en.wikipedia.org/wiki/Spooked_(The_Office)\n",
      "https://en.wikipedia.org/wiki/Jury_Duty_(The_Office)\n",
      "https://en.wikipedia.org/wiki/Brent_Forrester\n",
      "https://en.wikipedia.org/wiki/Branch_Closing\n",
      "https://en.wikipedia.org/wiki/Casino_Night\n",
      "https://en.wikipedia.org/wiki/Casual_Friday_(The_Office)\n",
      "https://en.wikipedia.org/wiki/The_Fight_(The_Office)\n",
      "https://en.wikipedia.org/wiki/The_Whale_(The_Office)\n",
      "https://en.wikipedia.org/wiki/Whistleblower_(The_Office)\n",
      "https://en.wikipedia.org/wiki/The_Sting_(The_Office)\n",
      "https://en.wikipedia.org/wiki/The_Boat_(The_Office)\n",
      "https://en.wikipedia.org/wiki/A_Benihana_Christmas\n",
      "https://en.wikipedia.org/wiki/Goodbye,_Michael\n",
      "https://en.wikipedia.org/wiki/Todd_Packer_(The_Office)\n",
      "https://en.wikipedia.org/wiki/The_Search_(The_Office)\n",
      "https://en.wikipedia.org/wiki/Pilot_(The_Office)\n",
      "https://en.wikipedia.org/wiki/Drug_Testing_(The_Office)\n",
      "https://en.wikipedia.org/wiki/Money_(The_Office)\n",
      "https://en.wikipedia.org/wiki/Fundraiser_(The_Office)\n",
      "https://en.wikipedia.org/wiki/The_Cover-Up_(The_Office)\n",
      "https://en.wikipedia.org/wiki/Welcome_Party\n",
      "https://en.wikipedia.org/wiki/Moroccan_Christmas\n",
      "https://en.wikipedia.org/wiki/Lotto_(The_Office)\n",
      "https://en.wikipedia.org/wiki/Promos_(The_Office)\n",
      "https://en.wikipedia.org/wiki/Michael%27s_Last_Dundies\n",
      "https://en.wikipedia.org/wiki/Garden_Party_(The_Office)\n",
      "https://en.wikipedia.org/wiki/Trivia_(The_Office)\n",
      "https://en.wikipedia.org/wiki/Company_Picnic\n",
      "https://en.wikipedia.org/wiki/After_Hours_(The_Office)\n",
      "https://en.wikipedia.org/wiki/B._J._Novak\n",
      "https://en.wikipedia.org/wiki/Launch_Party\n",
      "https://en.wikipedia.org/wiki/Counseling_(The_Office)\n",
      "https://en.wikipedia.org/wiki/Stress_Relief_(The_Office)\n",
      "https://en.wikipedia.org/wiki/Nepotism_(The_Office)\n",
      "https://en.wikipedia.org/wiki/Dwight_Christmas\n",
      "https://en.wikipedia.org/wiki/Performance_Review\n",
      "https://en.wikipedia.org/wiki/Viewing_Party\n",
      "https://en.wikipedia.org/wiki/Mafia_(The_Office)\n",
      "https://en.wikipedia.org/wiki/Test_the_Store\n",
      "https://en.wikipedia.org/wiki/Gay_Witch_Hunt\n",
      "https://en.wikipedia.org/wiki/Christening_(The_Office)\n",
      "https://en.wikipedia.org/wiki/Sexual_Harassment_(The_Office)\n",
      "https://en.wikipedia.org/wiki/Charlie_Grandy\n",
      "https://en.wikipedia.org/wiki/Pool_Party_(The_Office)\n",
      "https://en.wikipedia.org/wiki/Survivor_Man\n",
      "https://en.wikipedia.org/wiki/Livin%27_the_Dream\n",
      "https://en.wikipedia.org/wiki/The_Secret_(The_Office)\n",
      "https://en.wikipedia.org/wiki/Dinner_Party_(The_Office)\n",
      "https://en.wikipedia.org/wiki/Weight_Loss_(The_Office)\n",
      "https://en.wikipedia.org/wiki/PDA_(The_Office)\n",
      "https://en.wikipedia.org/wiki/Last_Day_in_Florida\n",
      "https://en.wikipedia.org/wiki/Angry_Andy\n",
      "https://en.wikipedia.org/wiki/Andy%27s_Play\n",
      "https://en.wikipedia.org/wiki/Ben_Franklin_(The_Office)\n",
      "https://en.wikipedia.org/wiki/Employee_Transfer\n",
      "https://en.wikipedia.org/wiki/Ultimatum_(The_Office)\n",
      "https://en.wikipedia.org/wiki/Heavy_Competition\n",
      "https://en.wikipedia.org/wiki/Turf_War_(The_Office)\n",
      "https://en.wikipedia.org/wiki/Doomsday_(The_Office)\n",
      "https://en.wikipedia.org/wiki/Lice_(The_Office)\n",
      "https://en.wikipedia.org/wiki/Safety_Training_(The_Office)\n",
      "https://en.wikipedia.org/wiki/Cafe_Disco\n",
      "https://en.wikipedia.org/wiki/The_Inner_Circle_(The_Office)\n",
      "https://en.wikipedia.org/wiki/Junior_Salesman\n",
      "https://en.wikipedia.org/wiki/Health_Care_(The_Office)\n",
      "https://en.wikipedia.org/wiki/The_Farm_(The_Office)\n",
      "https://en.wikipedia.org/wiki/Koi_Pond_(The_Office)\n",
      "https://en.wikipedia.org/wiki/Dunder_Mifflin_Infinity\n",
      "https://en.wikipedia.org/wiki/Threat_Level_Midnight\n",
      "https://en.wikipedia.org/wiki/Blood_Drive_(The_Office)\n",
      "https://en.wikipedia.org/wiki/Body_Language_(The_Office)\n",
      "https://en.wikipedia.org/wiki/Randall_Einhorn\n",
      "https://en.wikipedia.org/wiki/Dream_Team_(The_Office)\n",
      "https://en.wikipedia.org/wiki/Lecture_Circuit\n",
      "https://en.wikipedia.org/wiki/Prince_Family_Paper\n",
      "https://en.wikipedia.org/wiki/The_Carpet_(The_Office)\n",
      "https://en.wikipedia.org/wiki/Costume_Contest\n",
      "https://en.wikipedia.org/wiki/Pam%27s_Replacement\n",
      "https://en.wikipedia.org/wiki/The_Lover_(The_Office)\n",
      "https://en.wikipedia.org/wiki/Beach_Games\n",
      "https://en.wikipedia.org/wiki/Work_Bus\n",
      "https://en.wikipedia.org/wiki/Mindy_Kaling\n",
      "https://en.wikipedia.org/wiki/Local_Ad\n",
      "https://en.wikipedia.org/wiki/Harold_Ramis\n",
      "https://en.wikipedia.org/wiki/Booze_Cruise_(The_Office)\n",
      "https://en.wikipedia.org/wiki/Double_Date_(The_Office)\n",
      "https://en.wikipedia.org/wiki/The_Return_(The_Office)\n",
      "https://en.wikipedia.org/wiki/Dwight%27s_Speech\n",
      "https://en.wikipedia.org/wiki/The_List_(The_Office)\n",
      "https://en.wikipedia.org/wiki/Suit_Warehouse\n",
      "https://en.wikipedia.org/wiki/Here_Comes_Treble\n",
      "https://en.wikipedia.org/wiki/The_Chump\n",
      "https://en.wikipedia.org/wiki/Lee_Eisenberg\n",
      "https://en.wikipedia.org/wiki/Back_from_Vacation\n",
      "https://en.wikipedia.org/wiki/Christmas_Wishes_(The_Office)\n",
      "https://en.wikipedia.org/wiki/Paper_Airplane_(The_Office)\n",
      "https://en.wikipedia.org/wiki/The_Deposition_(The_Office)\n",
      "https://en.wikipedia.org/wiki/Two_Weeks_(The_Office)\n",
      "https://en.wikipedia.org/wiki/Halloween_(The_Office)\n",
      "https://en.wikipedia.org/wiki/The_Manager_and_the_Salesman\n",
      "https://en.wikipedia.org/wiki/The_Target_(The_Office)\n",
      "https://en.wikipedia.org/wiki/The_Alliance_(The_Office)\n",
      "https://en.wikipedia.org/wiki/Hot_Girl_(The_Office)\n",
      "https://en.wikipedia.org/wiki/Murder_(The_Office)\n",
      "https://en.wikipedia.org/wiki/Night_Out_(The_Office)\n",
      "https://en.wikipedia.org/wiki/Sabre_(The_Office)\n",
      "https://en.wikipedia.org/wiki/Email_Surveillance\n",
      "https://en.wikipedia.org/wiki/The_Promotion_(The_Office)\n",
      "https://en.wikipedia.org/wiki/Secret_Santa_(The_Office)\n",
      "https://en.wikipedia.org/wiki/Gettysburg_(The_Office)\n",
      "https://en.wikipedia.org/wiki/Roy%27s_Wedding\n",
      "https://en.wikipedia.org/wiki/Secretary%27s_Day_(The_Office)\n",
      "https://en.wikipedia.org/wiki/Training_Day_(The_Office)\n",
      "https://en.wikipedia.org/wiki/The_Fire_(The_Office)\n",
      "https://en.wikipedia.org/wiki/Conflict_Resolution_(The_Office)\n",
      "https://en.wikipedia.org/wiki/The_Duel_(The_Office)\n",
      "https://en.wikipedia.org/wiki/Basketball_(The_Office)\n",
      "https://en.wikipedia.org/wiki/Take_Your_Daughter_to_Work_Day_(The_Office)\n",
      "https://en.wikipedia.org/wiki/Chair_Model\n",
      "https://en.wikipedia.org/wiki/Diversity_Day_(The_Office)\n",
      "https://en.wikipedia.org/wiki/Traveling_Salesmen\n",
      "https://en.wikipedia.org/wiki/Product_Recall\n",
      "https://en.wikipedia.org/wiki/Scott%27s_Tots\n",
      "https://en.wikipedia.org/wiki/Special_Project\n",
      "https://en.wikipedia.org/wiki/Couples_Discount\n",
      "https://en.wikipedia.org/wiki/Stairmageddon\n",
      "https://en.wikipedia.org/wiki/Business_School_(The_Office)\n",
      "https://en.wikipedia.org/wiki/Did_I_Stutter%3F\n",
      "https://en.wikipedia.org/wiki/A.A.R.M.\n",
      "https://en.wikipedia.org/wiki/The_Merger_(The_Office)\n",
      "https://en.wikipedia.org/wiki/Broke_(The_Office)\n",
      "https://en.wikipedia.org/wiki/Goodbye,_Toby\n",
      "https://en.wikipedia.org/wiki/Diwali_(The_Office)\n",
      "https://en.wikipedia.org/wiki/New_Leads\n",
      "https://en.wikipedia.org/wiki/St._Patrick%27s_Day_(The_Office)\n",
      "https://en.wikipedia.org/wiki/Cocktails_(The_Office)\n",
      "https://en.wikipedia.org/wiki/Gossip_(The_Office)\n",
      "https://en.wikipedia.org/wiki/Dwight_K._Schrute,_(Acting)_Manager\n",
      "https://en.wikipedia.org/wiki/Customer_Loyalty_(The_Office)\n",
      "https://en.wikipedia.org/wiki/The_Client_(The_Office)\n",
      "https://en.wikipedia.org/wiki/Free_Family_Portrait_Studio\n",
      "https://en.wikipedia.org/wiki/Job_Fair_(The_Office)\n",
      "https://en.wikipedia.org/wiki/Get_the_Girl\n",
      "https://en.wikipedia.org/wiki/New_Boss\n",
      "https://en.wikipedia.org/wiki/The_Job_(The_Office)\n",
      "https://en.wikipedia.org/wiki/New_Guys\n",
      "https://en.wikipedia.org/wiki/Mrs._California\n",
      "https://en.wikipedia.org/wiki/The_Convention_(The_Office)\n",
      "https://en.wikipedia.org/wiki/Andy%27s_Ancestry\n",
      "https://en.wikipedia.org/wiki/Niagara_(The_Office)\n",
      "https://en.wikipedia.org/wiki/Michael%27s_Birthday\n",
      "https://en.wikipedia.org/wiki/Fun_Run\n"
     ]
    }
   ],
   "source": [
    "import requests\n",
    "from bs4 import BeautifulSoup\n",
    "'''here, we try to use a wikipedia page to extract the links that it has to \n",
    "other wikipedia pages containing information about each episode of the office (most of them) '''\n",
    "def get_episode_links(show_url):\n",
    "    response = requests.get(show_url)\n",
    "    soup = BeautifulSoup(response.text, 'html.parser')\n",
    "\n",
    "    episode_links = set()\n",
    "\n",
    "    # Iterate through all tables\n",
    "    for table in soup.find_all('table', {'class': 'wikitable plainrowheaders wikiepisodetable'}):\n",
    "        # Find the index of the \"Title\" column\n",
    "        headers = table.find_all('th')\n",
    "        title_index = None\n",
    "        for i, header in enumerate(headers):\n",
    "            if 'Title' in header.text:\n",
    "                title_index = i\n",
    "                break\n",
    "\n",
    "        if title_index is not None:\n",
    "            # Extract URLs from the \"Title\" column\n",
    "            for row in table.find_all('tr')[1:]:  # Skip the header row\n",
    "                cells = row.find_all('td')\n",
    "                if len(cells) > title_index:\n",
    "                    link = cells[1].find('a') #the 1 of cells gives us the links to the episodes (found by inspecting the html of the wikipedi page)\n",
    "                    if link:\n",
    "                        full_link = f'https://en.wikipedia.org{link[\"href\"]}' #making it the full link \n",
    "                        episode_links.add(full_link)\n",
    "\n",
    "    return episode_links\n",
    "\n",
    "show_url = 'https://en.wikipedia.org/wiki/List_of_The_Office_(American_TV_series)_episodes'\n",
    "episode_links = get_episode_links(show_url)\n",
    "\n",
    "for link in episode_links:\n",
    "    print(link) #sanity check "
   ]
  },
  {
   "cell_type": "code",
   "execution_count": 12,
   "metadata": {},
   "outputs": [],
   "source": [
    "all_links = list(episode_links) #create a list \n",
    "#add the 2 main links about the office to this list \n",
    "all_links.append('https://en.wikipedia.org/wiki/List_of_The_Office_(American_TV_series)_episodes')\n",
    "all_links.append('https://en.wikipedia.org/wiki/The_Office_(American_TV_series)')"
   ]
  },
  {
   "cell_type": "code",
   "execution_count": 13,
   "metadata": {},
   "outputs": [],
   "source": [
    "#for each website url, we extract the html information between <p> and </p> which is our paragraph information \n",
    "# and iteratively append it to the text variable to create one string variable with all the web scraped information and put it in a txt file\n",
    "def web_scraper(url, text): \n",
    "  response = requests.get(url)\n",
    "  soup = BeautifulSoup(response.text, 'html')\n",
    "  paragraphs = soup.find_all('p')\n",
    "  for paragraph in paragraphs:\n",
    "    text += paragraph.get_text()\n",
    "  text += '\\n'\n",
    "  return text"
   ]
  },
  {
   "cell_type": "code",
   "execution_count": 15,
   "metadata": {},
   "outputs": [
    {
     "data": {
      "text/plain": [
       "187"
      ]
     },
     "execution_count": 15,
     "metadata": {},
     "output_type": "execute_result"
    }
   ],
   "source": [
    "len(all_links) #check "
   ]
  },
  {
   "cell_type": "code",
   "execution_count": 16,
   "metadata": {},
   "outputs": [
    {
     "name": "stdout",
     "output_type": "stream",
     "text": [
      "10 urls done!\n",
      "10 urls done!\n",
      "10 urls done!\n",
      "10 urls done!\n",
      "10 urls done!\n",
      "10 urls done!\n",
      "10 urls done!\n",
      "10 urls done!\n",
      "10 urls done!\n",
      "10 urls done!\n",
      "10 urls done!\n",
      "10 urls done!\n",
      "10 urls done!\n",
      "10 urls done!\n",
      "10 urls done!\n",
      "10 urls done!\n",
      "10 urls done!\n",
      "10 urls done!\n"
     ]
    }
   ],
   "source": [
    "web_text = '' #this is our string variable \n",
    "i = 0\n",
    "for url in all_links: #for each url \n",
    "  i += 1\n",
    "  web_text = web_scraper(url, web_text)\n",
    "  if i%10 == 0:\n",
    "    print('10 urls done!') #just to see our progress, make sure everything is moving smoothly"
   ]
  },
  {
   "cell_type": "code",
   "execution_count": 17,
   "metadata": {},
   "outputs": [
    {
     "name": "stdout",
     "output_type": "stream",
     "text": [
      "lar character, having previously appeared in the seventh season finale, \"Search Committee\" as a candidate to replace Michael as office manager.[3] Tate was initially the top choice to join the cast as the manager, but due to a commitment to the West End production of the Shakespeare play, Much Ado About Nothing she was unable to join the series at the start of the season.[4][5] Her character, Nellie is re-introduced as the Head of Special Projects for Sabre, and subsequently works in the Scranto\n"
     ]
    }
   ],
   "source": [
    "print(web_text[5000:5500]) #checking to see if the text seems correct"
   ]
  },
  {
   "cell_type": "code",
   "execution_count": 19,
   "metadata": {},
   "outputs": [],
   "source": [
    "with open('theofficedata.txt', 'w', encoding = 'utf-8') as f:\n",
    "    f.write(web_text) #write it into a text file so we don't need to do this again"
   ]
  },
  {
   "cell_type": "markdown",
   "metadata": {},
   "source": [
    "# Vector DB creation with Chroma "
   ]
  },
  {
   "cell_type": "code",
   "execution_count": 1,
   "metadata": {},
   "outputs": [],
   "source": [
    "from langchain_community.document_loaders import WikipediaLoader\n",
    "from langchain.text_splitter import RecursiveCharacterTextSplitter\n",
    "from langchain.schema import Document\n",
    "from langchain_openai.embeddings import OpenAIEmbeddings\n",
    "from langchain.vectorstores.chroma import Chroma\n",
    "import os\n",
    "import shutil\n",
    "from getpass import getpass\n",
    "\n",
    "db_path = \"db\" #this is where our database goes, in the same directory \n",
    "doc_path = \"theofficedata.txt\" #this is where our web-sraped text went"
   ]
  },
  {
   "cell_type": "code",
   "execution_count": 2,
   "metadata": {},
   "outputs": [],
   "source": [
    "with open(doc_path) as f:\n",
    "  text = f.read() #this has all our web scraped information in one place\n",
    "text_splitter = RecursiveCharacterTextSplitter(chunk_size=800, chunk_overlap=100)\n",
    "chunks = text_splitter.create_documents([text])"
   ]
  },
  {
   "cell_type": "code",
   "execution_count": 3,
   "metadata": {},
   "outputs": [],
   "source": [
    "api_key_openai= getpass('Give OPENAI API key:') #this is our OPENAI API Key, for privacy reasons it is kept as a getpass function"
   ]
  },
  {
   "cell_type": "code",
   "execution_count": 4,
   "metadata": {},
   "outputs": [],
   "source": [
    "if os.path.exists(db_path):\n",
    "    shutil.rmtree(db_path)\n",
    "db = Chroma.from_documents(chunks, OpenAIEmbeddings(openai_api_key=api_key_openai), persist_directory=db_path)\n",
    "db.persist() #created our dataase "
   ]
  }
 ],
 "metadata": {
  "kernelspec": {
   "display_name": "Python 3",
   "language": "python",
   "name": "python3"
  },
  "language_info": {
   "codemirror_mode": {
    "name": "ipython",
    "version": 3
   },
   "file_extension": ".py",
   "mimetype": "text/x-python",
   "name": "python",
   "nbconvert_exporter": "python",
   "pygments_lexer": "ipython3",
   "version": "3.10.1"
  }
 },
 "nbformat": 4,
 "nbformat_minor": 2
}
